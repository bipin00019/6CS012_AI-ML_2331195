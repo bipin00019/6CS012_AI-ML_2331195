{
 "cells": [
  {
   "cell_type": "markdown",
   "metadata": {},
   "source": [
    "4.1 Exercise on Functions:\n",
    "Task - 1:\n",
    "Create a Python program that converts between different units of measurement.\n",
    "• The program should:\n",
    "1. Prompt the user to choose the type of conversion (e.g., length, weight, volume).\n",
    "2. Ask the user to input the value to be converted.\n",
    "3. Perform the conversion and display the result.\n",
    "4. Handle potential errors, such as invalid input or unsupported conversion types.\n",
    "• Requirements:\n",
    "1. Functions: Define at least one function to perform the conversion.\n",
    "2. Error Handling: Use try-except blocks to handle invalid input (e.g., non-numeric values).\n",
    "3. User Input: Prompt the user to select the conversion type and input the value.\n",
    "4. Docstrings: Include a docstring in your function to describe its purpose, parameters, and\n",
    "return value.\n",
    "• Conversion Options:\n",
    "1. Length:\n",
    "– Convert meters (m) to feet (ft).\n",
    "– Convert feet (ft) to meters (m).\n",
    "2. Weight:\n",
    "– Convert kilograms (kg) to pounds (lbs).\n",
    "– Convert pounds (lbs) to kilograms (kg).\n",
    "3. Volume:\n",
    "– Convert liters (L) to gallons (gal).\n",
    "– Convert gallons (gal) to liters (L)."
   ]
  },
  {
   "cell_type": "code",
   "execution_count": null,
   "metadata": {},
   "outputs": [],
   "source": [
    "def convert_length (value, unit) :\n",
    "  \"\"\"\n",
    "  Converts length between meters and feet.\n",
    "  param value: the numeric value to convert\n",
    "  param unit: unit of given value ('m' for meters, 'ft for feet')\n",
    "  return : Converted value\n",
    "  \"\"\"\n",
    "  if unit == 'm':\n",
    "    return value * 3.28084 #meters to feet\n",
    "  elif unit == 'ft':\n",
    "    return value / 3.28084 #feet to meters\n",
    "  else:\n",
    "    raise ValueError(\"Unsupported length unit\")\n",
    "def convert_weight (value, unit):\n",
    "  \"\"\"\n",
    "  Converts weight between kilograms and pounds.\n",
    "  param value: the numeric value to convert\n",
    "  param unit: unit of given value ('kg' for kilograms, 'lb' for pounds)\n",
    "  return : Converted value\n",
    "  \"\"\"\n",
    "  if unit == 'kg':\n",
    "    return value * 2.20462 #kilograms to pound\n",
    "  elif unit == 'lb':\n",
    "    return value / 2.20462 #pounds to kilogram\n",
    "  else :\n",
    "    raise ValueError(\"Unsupported weight unit\");\n",
    "\n",
    "def convert_volume (value, unit):\n",
    "  \"\"\"\n",
    "  converts volume between liters and gallons.\n",
    "  param value: the numeric value to convert\n",
    "  param unit: unit of given value ('l' for liters, 'gal' for gallons).\n",
    "  \"\"\"\n",
    "  if unit == 'l' :\n",
    "    return value * 0.264172 #liters to gallons\n",
    "  elif unit == 'gal' :\n",
    "    return value / 0.264172 #gallons to liters\n",
    "  else :\n",
    "    raise ValueError(\"Unsupported volume unit\")\n",
    "def main() :\n",
    "  print(\"Choose conversion type : \\n 1. Length (m-ft) \\n 2. Weight (lg-lbs) \\n 3. Volume (L-gal) \\n\")\n",
    "  try : \n",
    "    choice = int(input(\"Enter your choice (1/2/3) : \"))\n",
    "    if choice not in [1, 2, 3] :\n",
    "      print(\"Invalid choice. Please enter 1/2/3\")\n",
    "      return\n",
    "    value = int(input(\"Enter value to convert: \"))\n",
    "    if choice == 1 :\n",
    "      unit = input(\"Enter unit (m/ft) : \")\n",
    "      print(f\"Converted value : {convert_length(value, unit)}\")\n",
    "    elif choice == 2 :\n",
    "      unit = input(\"Enter unit (kg/lb) : \")\n",
    "      print(f\"Converted value : {convert_weight(value, unit)}\")\n",
    "    elif choice == 3 :\n",
    "      unit = input(\"Enter unit (l/gal) : \")\n",
    "      print(f\"Converted value : {convert_volume(value, unit)}\")\n",
    "  except ValueError as e :\n",
    "      print(f\"Error: {e}. Please enter a valid numeric value and unit\")\n",
    "  except Exception as e :\n",
    "      print(f\"An unexpected error occurred: {e}\")\n",
    "if __name__ == \"__main__\":\n",
    "  main()\n",
    "\n",
    "\n",
    "\n"
   ]
  },
  {
   "cell_type": "markdown",
   "metadata": {},
   "source": [
    "Task - 2:\n",
    "Create a Python program that performs various mathematical operations on a list of numbers.\n",
    "• The Program should:\n",
    "1. Prompt the user to choose an operation (e.g., find the sum, average, maximum, or minimum\n",
    "of the numbers).\n",
    "2. Ask the user to input a list of numbers (separated by spaces).\n",
    "\n",
    "18\n",
    "\n",
    "6CS012 Worksheet - 0 Siman Giri\n",
    "\n",
    "3. Perform the selected operation and display the result.\n",
    "4. Handle potential errors, such as invalid input or empty lists.\n",
    "• Requirements:\n",
    "\n",
    "1. Functions: Define at least one function for each operation (sum, average, maximum, mini-\n",
    "mum).\n",
    "\n",
    "2. Error Handling: Use try-except blocks to handle invalid input (e.g., non-numeric values or\n",
    "empty lists).\n",
    "3. User Input: Prompt the user to select the operation and input the list of numbers.\n",
    "4. Docstrings: Include a docstring in each function to describe its purpose, parameters, and\n",
    "return value."
   ]
  },
  {
   "cell_type": "code",
   "execution_count": null,
   "metadata": {},
   "outputs": [],
   "source": [
    "def calculate_sum(numbers):\n",
    "  \"\"\"\n",
    "  Calculcates the sum of a list of numbers.\n",
    "  param numbers: list of numbers\n",
    "  return : sum of numbers\n",
    "  \"\"\"\n",
    "  return sum(numbers)\n",
    "\n",
    "def calculates_average(numbers):\n",
    "  \"\"\"\n",
    "  Calculcates the average of a list of numbers.\n",
    "  param numbers: list of numbers\n",
    "  return : average of numbers\n",
    "  \"\"\"\n",
    "  return sum(numbers) / len(numbers) if numbers else 0\n",
    "\n",
    "def find_max(numbers):\n",
    "  \"\"\"\n",
    "  Finds the maximum value in a list of numbers.\n",
    "  param numbers: list of numbers\n",
    "  return : maximum value in the list\n",
    "  \"\"\"\n",
    "  return max(numbers) if numbers else None\n",
    "\n",
    "def find_min(numbers):\n",
    "  \"\"\"\n",
    "  Finds the minimum value in a list of numbers.\n",
    "  param numbers: list of numbers\n",
    "  return : minimum value in the list\n",
    "  \"\"\"\n",
    "  return min(numbers) if numbers else None \n",
    "def main():\n",
    "  print(\"Choose an operation\")\n",
    "  print(\"1. Calculate Sum\")\n",
    "  print(\"2. Calculate Average\")\n",
    "  print(\"3. Find Maximum\")\n",
    "  print(\"4. Find Minimum\")\n",
    "  try:\n",
    "    choice = int(input(\"Enter your choice (1/2/3/4): \"))\n",
    "    if choice not in [1, 2, 3, 4]:\n",
    "      print(\"Invalid choice. Please enter 1/2/3/4\")\n",
    "      return\n",
    "    \n",
    "    user_input = input(\"Enter a list of numbers separated by spaces: \")\n",
    "    numbers = list(map(float, user_input.split()))\n",
    "\n",
    "    if not numbers:\n",
    "      print(\"Numbers cannot be zero\")\n",
    "      return\n",
    "    if choice == 1:\n",
    "      print(f\"Sum of numbers: {calculate_sum(numbers)}\")\n",
    "    elif choice == 2:\n",
    "      print(f\"Average of numbers: {calculates_average(numbers)}\")\n",
    "    elif choice == 3:\n",
    "      print(f\"Maximum value: {find_max(numbers)}\")\n",
    "    elif choice == 4:\n",
    "      print(f\"Minimum value: {find_min(numbers)}\")\n",
    "  except ValueError as e:\n",
    "    print(f\"Error: {e}. Please enter a valid list of numbers\")\n",
    "  except Exception as e:\n",
    "    print(f\"An unexpected error occurred: {e}\")\n",
    "if __name__ == \"__main__\":\n",
    "  main()"
   ]
  },
  {
   "cell_type": "markdown",
   "metadata": {},
   "source": [
    "4.2 Exercise on List Manipulation:\n",
    "1. Extract Every Other Element:\n",
    "Write a Python function that extracts every other element from a list, starting from the first element.\n",
    "• Requirements:\n",
    "– Define a function extract every other(lst) that takes a list lst as input and returns a\n",
    "new list containing every other element from the original list.\n",
    "– Example: For the input [1, 2, 3, 4, 5, 6], the output should be [1, 3, 5]."
   ]
  },
  {
   "cell_type": "code",
   "execution_count": null,
   "metadata": {},
   "outputs": [],
   "source": [
    "def extract_every_other(lst):\n",
    "  \n",
    "  return lst[::2] #using list slicing to get every element starting from the first one. \n",
    "  \"\"\"\n",
    "  general form is lst[start:stop:step]\n",
    "  start: where the slicing starts (we leave it empty to start from the beginning)\n",
    "  stop: Where the slicing ends (left empty to go until the end)\n",
    "  strp: Every second element in this case\n",
    "  \"\"\"\n",
    "\n",
    "numbers = [1,2,3,4,5,6]\n",
    "result = extract_every_other(numbers)\n",
    "print(result)"
   ]
  },
  {
   "cell_type": "markdown",
   "metadata": {},
   "source": [
    "2. Slice a Sublist:\n",
    "Write a Python function that returns a sublist from a given list, starting from a specified index and\n",
    "ending at another specified index.\n",
    "• Requirements:\n",
    "– Define a function get sublist(lst, start, end) that takes a list lst, a starting index\n",
    "start, and an ending index end as input and returns the sublist from start to end (inclusive).\n",
    "– Example: For the input [1, 2, 3, 4, 5, 6] with start=2 and end=4, the output should\n",
    "be [3, 4, 5]."
   ]
  },
  {
   "cell_type": "code",
   "execution_count": null,
   "metadata": {},
   "outputs": [],
   "source": [
    "def get_sublist(lst, start, end):\n",
    "    return lst[start:end+1]  # Slice the list from start to end (inclusive)\n",
    "\n",
    "\n",
    "numbers = [1, 2, 3, 4, 5, 6]\n",
    "result = get_sublist(numbers, 2, 4)\n",
    "print(result)  \n"
   ]
  },
  {
   "cell_type": "markdown",
   "metadata": {},
   "source": [
    "3. Reverse a List Using Slicing:\n",
    "Write a Python function that reverses a list using slicing.\n",
    "• Requirements:\n",
    "– Define a function reverse list(lst) that takes a list lst and returns a reversed list using\n",
    "slicing.\n",
    "– Example: For the input [1, 2, 3, 4, 5], the output should be [5, 4, 3, 2, 1]."
   ]
  },
  {
   "cell_type": "code",
   "execution_count": null,
   "metadata": {},
   "outputs": [],
   "source": [
    "def reverse_list(lst):\n",
    "    return lst[::-1]  # Reverses the list using slicing. Here first semicolon means starting index second one for end and third -1 is step which is reverse\n",
    "\n",
    "\n",
    "input_list = [1, 2, 3, 4, 5]\n",
    "output_list = reverse_list(input_list)\n",
    "\n",
    "print(output_list) \n"
   ]
  },
  {
   "cell_type": "markdown",
   "metadata": {},
   "source": [
    "4. Remove the First and Last Elements:\n",
    "Write a Python function that removes the first and last elements of a list and returns the resulting\n",
    "sublist.\n",
    "• Requirements:\n",
    "– Define a function remove first last(lst) that takes a list lst and returns a sublist without\n",
    "the first and last elements using slicing.\n",
    "– Example: For the input [1, 2, 3, 4, 5], the output should be [2, 3, 4]."
   ]
  },
  {
   "cell_type": "code",
   "execution_count": null,
   "metadata": {},
   "outputs": [],
   "source": [
    "def remove_first_last(lst):\n",
    "    return lst[1:-1]  # Slicing to remove first and last elements\n",
    "\n",
    "    \"\"\"\n",
    "    lst[1:-1]:\n",
    "    The 1 indicates that the slice starts from the second element (index 1), skipping the first element.\n",
    "    The -1 indicates that the slice stops before the last element (index -1), effectively removing the last element.\n",
    "    \"\"\"\n",
    "# Example usage\n",
    "input_list = [1, 2, 3, 4, 5]\n",
    "output_list = remove_first_last(input_list)\n",
    "\n",
    "print(output_list)  \n"
   ]
  },
  {
   "cell_type": "markdown",
   "metadata": {},
   "source": [
    "5. Get the First n Elements:\n",
    "Write a Python function that extracts the first n elements from a list.\n",
    "• Requirements:\n",
    "– Define a function get first n(lst, n) that takes a list lst and an integer n as input and\n",
    "returns the first n elements of the list using slicing.\n",
    "– Example: For the input [1, 2, 3, 4, 5] with n=3, the output should be [1, 2, 3]."
   ]
  },
  {
   "cell_type": "code",
   "execution_count": null,
   "metadata": {},
   "outputs": [],
   "source": [
    "def get_first_n(lst, n):\n",
    "    return lst[:n]  # Slicing to get the first n elements\n",
    "    \"\"\"\n",
    "    lst[:n]:\n",
    "    The : before n means \"start from the beginning of the list\".\n",
    "    The n means \"take the first n elements\".\n",
    "    \"\"\"\n",
    "input_list = [1, 2, 3, 4, 5]\n",
    "n = 3\n",
    "output_list = get_first_n(input_list, n)\n",
    "\n",
    "print(output_list) \n"
   ]
  },
  {
   "cell_type": "markdown",
   "metadata": {},
   "source": [
    "6. Extract Elements from the End:\n",
    "Write a Python function that extracts the last n elements of a list using slicing.\n",
    "• Requirements:\n",
    "– Define a function get last n(lst, n) that takes a list lst and an integer n as input and\n",
    "returns the last n elements of the list.\n",
    "– Example: For the input [1, 2, 3, 4, 5] with n=2, the output should be [4, 5]."
   ]
  },
  {
   "cell_type": "code",
   "execution_count": null,
   "metadata": {},
   "outputs": [],
   "source": [
    "def get_last_n(lst, n):\n",
    "    return lst[-n:]  # Slicing to get the last n elements\n",
    "    \"\"\"\n",
    "    lst[-n:]:\n",
    "    The -n means \"start from the n-th element from the end\" (negative indexing).\n",
    "    The : after -n means \"take all elements from that position to the end of the list\".\n",
    "    \"\"\"\n",
    "# Example usage\n",
    "input_list = [1, 2, 3, 4, 5]\n",
    "n = 2\n",
    "output_list = get_last_n(input_list, n)\n",
    "\n",
    "print(output_list) \n"
   ]
  },
  {
   "cell_type": "markdown",
   "metadata": {},
   "source": [
    "7. Extract Elements in Reverse Order:\n",
    "Write a Python function that extracts a list of elements in reverse order starting from the second-to-last\n",
    "element and skipping one element in between.\n",
    "• Requirements:\n",
    "– Define a function reverse skip(lst) that takes a list lst and returns a new list containing\n",
    "every second element starting from the second-to-last, moving backward.\n",
    "– Example: For the input [1, 2, 3, 4, 5, 6], the output should be [5, 3, 1]."
   ]
  },
  {
   "cell_type": "code",
   "execution_count": null,
   "metadata": {},
   "outputs": [],
   "source": [
    "def reverse_skip(lst):\n",
    "    return lst[-2::-2]  # Start from second-to-last, skip every second element, move backward\n",
    "    \"\"\" \n",
    "    lst[-2::-2]:\n",
    "    The -2 means \"start from the second-to-last element.\"\n",
    "    The :: indicates slicing, and the -2 after the second colon means \"take every second element while moving backward.\"\n",
    "    \"\"\"\n",
    "# Example usage\n",
    "input_list = [1, 2, 3, 4, 5, 6]\n",
    "output_list = reverse_skip(input_list)\n",
    "\n",
    "print(output_list)  \n"
   ]
  },
  {
   "cell_type": "markdown",
   "metadata": {},
   "source": [
    "4.3 Exercise on Nested List:\n",
    "1. Flatten a Nested List:\n",
    "Write a Python function that takes a nested list and flattens it into a single list, where all the elements\n",
    "are in a single dimension.\n",
    "• Requirements:\n",
    "– Define a function flatten(lst) that takes a nested list lst and returns a flattened version\n",
    "of the list.\n",
    "– Example: For the input [[1, 2], [3, 4], [5]], the output should be [1, 2, 3, 4, 5]."
   ]
  },
  {
   "cell_type": "code",
   "execution_count": null,
   "metadata": {},
   "outputs": [],
   "source": [
    "def flatten(lst):\n",
    "    flattened = []\n",
    "    for sublist in lst:\n",
    "        for item in sublist:\n",
    "            flattened.append(item)\n",
    "    return flattened\n",
    "\n",
    "nested_list = [[1, 2], [3, 4], [5]]\n",
    "flattened_list = flatten(nested_list)\n",
    "\n",
    "print(flattened_list)  \n"
   ]
  },
  {
   "cell_type": "markdown",
   "metadata": {},
   "source": [
    "2. Accessing Nested List Elements:\n",
    "Write a Python function that extracts a specific element from a nested list given its indices.\n",
    "• Requirements:\n",
    "– Define a function access nested element(lst, indices) that takes a nested list lst and\n",
    "a list of indices indices, and returns the element at that position.\n",
    "– Example: For the input lst = [[1, 2, 3], [4, 5, 6], [7, 8, 9]] with indices = [1,\n",
    "2], the output should be 6."
   ]
  },
  {
   "cell_type": "code",
   "execution_count": null,
   "metadata": {},
   "outputs": [],
   "source": [
    "def access_nested_element(lst, indices):\n",
    "    element = lst  # Start with the outer list\n",
    "    for index in indices:  # Loop through each index in the indices list\n",
    "        element = element[index]  # Move to the next level using the current index\n",
    "    return element  # Return the final element after all index levels\n",
    "\n",
    "\n",
    "nested_list = [[1, 2, 3], [4, 5, 6], [7, 8, 9]]\n",
    "indices = [1, 2]\n",
    "result = access_nested_element(nested_list, indices)\n",
    "\n",
    "print(result) \n"
   ]
  },
  {
   "cell_type": "markdown",
   "metadata": {},
   "source": [
    "3. Sum of All Elements in a Nested List:\n",
    "Write a Python function that calculates the sum of all the numbers in a nested list (regardless of depth).\n",
    "• Requirements:\n",
    "– Define a function sum nested(lst) that takes a nested list lst and returns the sum of all\n",
    "the elements.\n",
    "– Example: For the input [[1, 2], [3, [4, 5]], 6], the output should be 21."
   ]
  },
  {
   "cell_type": "code",
   "execution_count": null,
   "metadata": {},
   "outputs": [],
   "source": [
    "def sum_nested(lst):\n",
    "    total = 0  # Start with a total sum of 0\n",
    "    for element in lst:  # Iterate through each element in the list\n",
    "        if isinstance(element, list):  # Check if the element is a list\n",
    "            total += sum_nested(element)  # Recursively sum the nested list\n",
    "        else:\n",
    "            total += element  # If it's a number, add it to the total\n",
    "    return total  # Return the final sum\n",
    "\n",
    "\n",
    "nested_list = [[1, 2], [3, [4, 5]], 6]\n",
    "result = sum_nested(nested_list)\n",
    "print(result)  # Output: 21\n"
   ]
  },
  {
   "cell_type": "markdown",
   "metadata": {},
   "source": [
    "4. Remove Specific Element from a Nested List:\n",
    "Write a Python function that removes all occurrences of a specific element from a nested list.\n",
    "• Requirements:\n",
    "– Define a function remove element(lst, elem) that removes elem from lst and returns the\n",
    "modified list.\n",
    "– Example: For the input lst = [[1, 2], [3, 2], [4, 5]] and elem = 2, the output should\n",
    "be [[1], [3], [4, 5]]."
   ]
  },
  {
   "cell_type": "code",
   "execution_count": null,
   "metadata": {},
   "outputs": [],
   "source": [
    "def remove_element(lst, elem):\n",
    "    # Iterate through each sublist or element in lst\n",
    "    result = []  # Initialize an empty list to hold the modified sublists\n",
    "    for item in lst:\n",
    "        if isinstance(item, list):  # If the item is a sublist\n",
    "            # Recursively remove elem from the sublist\n",
    "            result.append(remove_element(item, elem))\n",
    "        else:\n",
    "            # If the item is not equal to elem, add it to the result list\n",
    "            if item != elem:\n",
    "                result.append(item)\n",
    "    return result\n",
    "\n",
    "\n",
    "lst = [[1, 2], [3, 2], [4, 5]]\n",
    "elem = 2\n",
    "result = remove_element(lst, elem)\n",
    "print(result) "
   ]
  },
  {
   "cell_type": "markdown",
   "metadata": {},
   "source": [
    "5. Find the Maximum Element in a Nested List:\n",
    "Write a Python function that finds the maximum element in a nested list (regardless of depth).\n",
    "• Requirements:\n",
    "– Define a function find max(lst) that takes a nested list lst and returns the maximum\n",
    "element.\n",
    "– Example: For the input [[1, 2], [3, [4, 5]], 6], the output should be 6."
   ]
  },
  {
   "cell_type": "code",
   "execution_count": null,
   "metadata": {},
   "outputs": [],
   "source": [
    "def find_max(lst):\n",
    "    # Initialize a variable to keep track of the maximum value\n",
    "    max_value = float('-inf')  # Start with the smallest possible value\n",
    "\n",
    "    # Iterate through each item in the list\n",
    "    for item in lst:\n",
    "        if isinstance(item, list):  # If the item is a sublist, recurse on it\n",
    "            max_value = max(max_value, find_max(item))  # Recursive call\n",
    "        else:\n",
    "            # If it's a number, compare it with the current max_value\n",
    "            max_value = max(max_value, item)\n",
    "    \n",
    "    return max_value\n",
    "lst = [[1, 2], [3, [4, 5]], 6]\n",
    "result = find_max(lst)\n",
    "print(result)  \n"
   ]
  },
  {
   "cell_type": "markdown",
   "metadata": {},
   "source": [
    "6. Count Occurrences of an Element in a Nested List:\n",
    "Write a Python function that counts how many times a specific element appears in a nested list.\n",
    "• Requirements:\n",
    "– Define a function count occurrences(lst, elem) that counts the occurrences of elem in\n",
    "the nested list lst.\n",
    "– Example: For the input lst = [[1, 2], [2, 3], [2, 4]] and elem = 2, the output should\n",
    "be 3."
   ]
  },
  {
   "cell_type": "code",
   "execution_count": null,
   "metadata": {},
   "outputs": [],
   "source": [
    "def count_occurrences(lst, elem):\n",
    "    count = 0  # Initialize a counter to track occurrences\n",
    "    for item in lst:\n",
    "        if isinstance(item, list):  # If the item is a sublist, recurse on it\n",
    "            count += count_occurrences(item, elem)\n",
    "        else:\n",
    "            # If the item is equal to elem, increment the count\n",
    "            if item == elem:\n",
    "                count += 1\n",
    "    return count\n",
    "\n",
    "\n",
    "lst = [[1, 2], [2, 3], [2, 4]]\n",
    "elem = 2\n",
    "result = count_occurrences(lst, elem)\n",
    "print(result)  \n"
   ]
  },
  {
   "cell_type": "code",
   "execution_count": null,
   "metadata": {},
   "outputs": [],
   "source": []
  },
  {
   "cell_type": "code",
   "execution_count": null,
   "metadata": {},
   "outputs": [],
   "source": []
  },
  {
   "cell_type": "markdown",
   "metadata": {},
   "source": [
    "7. Flatten a List of Lists of Lists:\n",
    "Write a Python function that flattens a list of lists of lists into a single list, regardless of the depth.\n",
    "• Requirements:\n",
    "– Define a function deep flatten(lst) that takes a deeply nested list lst and returns a single\n",
    "flattened list.\n",
    "– Example: For the input [[[1, 2], [3, 4]], [[5, 6], [7, 8]]], the output should be\n",
    "[1, 2, 3, 4, 5, 6, 7, 8]."
   ]
  },
  {
   "cell_type": "code",
   "execution_count": null,
   "metadata": {},
   "outputs": [],
   "source": [
    "def deep_flatten(lst):\n",
    "    flattened = []\n",
    "    for item in lst:\n",
    "        if isinstance(item, list):  # If the item is a list, recursively flatten it\n",
    "            flattened.extend(deep_flatten(item))\n",
    "        else:\n",
    "            flattened.append(item)  # If it's not a list, add it directly to the result\n",
    "    return flattened\n",
    "\n",
    "# Example usage:\n",
    "nested_lst = [[[1, 2], [3, 4]], [[5, 6], [7, 8]]]\n",
    "result = deep_flatten(nested_lst)\n",
    "print(result)  # Output: [1, 2, 3, 4, 5, 6, 7, 8]\n"
   ]
  },
  {
   "cell_type": "markdown",
   "metadata": {},
   "source": [
    "8. Nested List Average:\n",
    "Write a Python function that calculates the average of all elements in a nested list.\n",
    "• Requirements:\n",
    "– Define a function average nested(lst) that takes a nested list lst and returns the average\n",
    "of all the elements.\n",
    "– Example: For the input [[1, 2], [3, 4], [5, 6]], the output should be 3.5."
   ]
  },
  {
   "cell_type": "code",
   "execution_count": null,
   "metadata": {},
   "outputs": [],
   "source": [
    "def average_nested(lst):\n",
    "    # Function to flatten the nested list\n",
    "    def flatten(lst):\n",
    "        flattened = []\n",
    "        for item in lst:\n",
    "            if isinstance(item, list):  # If item is a list, recurse\n",
    "                flattened.extend(flatten(item))  # Add flattened items from the sublist\n",
    "            else:\n",
    "                flattened.append(item)  # If item is not a list, add it directly\n",
    "        return flattened\n",
    "    \n",
    "    # Flatten the list\n",
    "    flattened_lst = flatten(lst)\n",
    "    \n",
    "    # Calculate the sum of the flattened list\n",
    "    total_sum = sum(flattened_lst)\n",
    "    \n",
    "    # Calculate the number of elements\n",
    "    count = len(flattened_lst)\n",
    "    \n",
    "    # Calculate and return the average\n",
    "    if count == 0:  # Avoid division by zero\n",
    "        return 0\n",
    "    return total_sum / count\n",
    "\n",
    "\n",
    "nested_lst = [[1, 2], [3, 4], [5, 6]]\n",
    "result = average_nested(nested_lst)\n",
    "print(result) \n"
   ]
  },
  {
   "cell_type": "markdown",
   "metadata": {},
   "source": [
    "10 To - Do - NumPy\n",
    "Please complete all the problems listed below:\n",
    "10.1 Basic Vector and Matrix Operation with Numpy.\n",
    "Problem - 1: Array Creation:\n",
    "Complete the following Tasks:\n",
    "1. Initialize an empty array with size 2X2.\n",
    "2. Initialize an all one array with size 4X2.\n",
    "3. Return a new array of given shape and type, filled with fill value.{Hint: np.full}\n",
    "4. Return a new array of zeros with same shape and type as a given array.{Hint: np.zeros like}\n",
    "5. Return a new array of ones with same shape and type as a given array.{Hint: np.ones like}\n",
    "6. For an existing list new_list = [1,2,3,4] convert to an numpy array.{Hint: np.array()}"
   ]
  },
  {
   "cell_type": "code",
   "execution_count": 10,
   "metadata": {},
   "outputs": [
    {
     "name": "stdout",
     "output_type": "stream",
     "text": [
      "\n",
      "Empty Array:\n",
      " [[1.94167799e-321 7.14059536e-312]\n",
      " [7.14291206e-312 7.14291207e-312]]\n",
      "\n",
      "Ones array\n",
      " [[1. 1.]\n",
      " [1. 1.]\n",
      " [1. 1.]\n",
      " [1. 1.]]\n",
      "\n",
      "Filled array with value 9 :\n",
      " [[9 9 9]\n",
      " [9 9 9]\n",
      " [9 9 9]]\n",
      "\n",
      "Zeros Array with Same Shape as one_array\n",
      " [[0. 0.]\n",
      " [0. 0.]\n",
      " [0. 0.]\n",
      " [0. 0.]]\n",
      "\n",
      "Ones Array with Same Shape as Existing Array:\n",
      " [[1 1]\n",
      " [1 1]]\n",
      "\n",
      "NumPy Array from List: [4 5 6 7]\n"
     ]
    }
   ],
   "source": [
    "import numpy as np\n",
    "\n",
    "empty_array = np.empty((2,2))\n",
    "print(\"\\nEmpty Array:\\n\",empty_array)\n",
    "\n",
    "one_array =np.ones((4,2))\n",
    "print(\"\\nOnes array\\n\", one_array)\n",
    "\n",
    "filled_array = np.full((3,3), 9)\n",
    "print(\"\\nFilled array with value 9 :\\n\",filled_array)\n",
    "\n",
    "zeros_array = np.zeros_like(one_array)\n",
    "print(\"\\nZeros Array with Same Shape as one_array\\n\", zeros_array)\n",
    "\n",
    "existing_array = np.array([[1,2],[3,4]])\n",
    "ones_like_array = np.ones_like(existing_array)\n",
    "print(\"\\nOnes Array with Same Shape as Existing Array:\\n\", ones_like_array)\n",
    "\n",
    "new_list = [4,5,6,7]\n",
    "numpy_array = np.array(new_list)\n",
    "print(\"\\nNumPy Array from List:\", numpy_array)"
   ]
  },
  {
   "cell_type": "markdown",
   "metadata": {},
   "source": [
    "Problem - 2: Array Manipulation: Numerical Ranges and Array indexing:\n",
    "Complete the following tasks:\n",
    "1. Create an array with values ranging from 10 to 49. {Hint:np.arrange()}.\n",
    "2. Create a 3X3 matrix with values ranging from 0 to 8.\n",
    "{Hint:look for np.reshape()}\n",
    "3. Create a 3X3 identity matrix.{Hint:np.eye()}\n",
    "4. Create a random array of size 30 and find the mean of the array.\n",
    "{Hint:check for np.random.random() and array.mean() function}\n",
    "5. Create a 10X10 array with random values and find the minimum and maximum values.\n",
    "6. Create a zero array of size 10 and replace 5th element with 1.\n",
    "7. Reverse an array arr = [1,2,0,0,4,0].\n",
    "8. Create a 2d array with 1 on border and 0 inside.\n",
    "9. Create a 8X8 matrix and fill it with a checkerboard pattern."
   ]
  },
  {
   "cell_type": "code",
   "execution_count": 11,
   "metadata": {},
   "outputs": [
    {
     "name": "stdout",
     "output_type": "stream",
     "text": [
      "Array with values ranging from 10 to 49:\n",
      " [10 11 12 13 14 15 16 17 18 19 20 21 22 23 24 25 26 27 28 29 30 31 32 33\n",
      " 34 35 36 37 38 39 40 41 42 43 44 45 46 47 48 49]\n",
      "\n",
      "3x3 Matrix with values from 0 to 8:\n",
      " [[0 1 2]\n",
      " [3 4 5]\n",
      " [6 7 8]]\n",
      "\n",
      "3x3 Identity Matrix:\n",
      " [[1. 0. 0.]\n",
      " [0. 1. 0.]\n",
      " [0. 0. 1.]]\n",
      "\n",
      "Random Array of Size 30:\n",
      " [0.82953375 0.37098061 0.67653613 0.00404617 0.59154553 0.05563211\n",
      " 0.11012406 0.65009265 0.79547334 0.98136297 0.30024982 0.25698651\n",
      " 0.60201375 0.83552041 0.26966284 0.31557791 0.37080464 0.30753992\n",
      " 0.07715427 0.3102303  0.84732584 0.55255538 0.72046487 0.90985288\n",
      " 0.65301159 0.69243563 0.94320918 0.97781626 0.29937159 0.43599836]\n",
      "Mean of the Array: 0.524770309040321\n",
      "\n",
      "Random 10x10 Array:\n",
      " [[0.16202598 0.26983407 0.89889028 0.54670204 0.94510143 0.26338301\n",
      "  0.80673069 0.57063901 0.77306925 0.786487  ]\n",
      " [0.24494331 0.70962829 0.87149096 0.90687497 0.23623926 0.39339001\n",
      "  0.687221   0.82162945 0.29311585 0.58656691]\n",
      " [0.09369819 0.64970204 0.50001912 0.89633808 0.89775173 0.73200637\n",
      "  0.53825556 0.47436183 0.86347721 0.28251145]\n",
      " [0.94377912 0.42332679 0.87423752 0.84895778 0.50327518 0.26321198\n",
      "  0.13141621 0.31524646 0.05841299 0.28348718]\n",
      " [0.66399507 0.75982325 0.87439708 0.11367891 0.78455587 0.52145398\n",
      "  0.76233588 0.20414243 0.3963454  0.72486676]\n",
      " [0.8561153  0.23359268 0.08273512 0.0514943  0.79147946 0.35334259\n",
      "  0.45975001 0.42810587 0.07289537 0.27897116]\n",
      " [0.8819455  0.68705096 0.11511336 0.08161144 0.40392245 0.59260781\n",
      "  0.68197768 0.46827417 0.93809184 0.15997195]\n",
      " [0.66105838 0.28774962 0.44007779 0.26826244 0.48610164 0.96662588\n",
      "  0.89172161 0.46800012 0.73523791 0.52049866]\n",
      " [0.72615277 0.3479859  0.87835196 0.12308791 0.57758518 0.38323981\n",
      "  0.81122917 0.14538616 0.98771901 0.72802098]\n",
      " [0.35598322 0.83350948 0.72179874 0.35630465 0.70158363 0.75286883\n",
      "  0.43838055 0.97442179 0.55106929 0.50166323]]\n",
      "Minimum Value: 0.05149429989899301\n",
      "Maximum Value: 0.9877190082117819\n",
      "\n",
      "Zero Array with 5th Element Replaced with 1:\n",
      " [0. 0. 0. 0. 1. 0. 0. 0. 0. 0.]\n",
      "\n",
      "Reversed Array:\n",
      " [0 4 0 0 2 1]\n",
      "\n",
      "2D Array with 1 on Border and 0 Inside:\n",
      " [[1. 1. 1. 1. 1.]\n",
      " [1. 0. 0. 0. 1.]\n",
      " [1. 0. 0. 0. 1.]\n",
      " [1. 0. 0. 0. 1.]\n",
      " [1. 1. 1. 1. 1.]]\n",
      "\n",
      "8x8 Checkerboard Pattern:\n",
      " [[0. 1. 0. 1. 0. 1. 0. 1.]\n",
      " [1. 0. 1. 0. 1. 0. 1. 0.]\n",
      " [0. 1. 0. 1. 0. 1. 0. 1.]\n",
      " [1. 0. 1. 0. 1. 0. 1. 0.]\n",
      " [0. 1. 0. 1. 0. 1. 0. 1.]\n",
      " [1. 0. 1. 0. 1. 0. 1. 0.]\n",
      " [0. 1. 0. 1. 0. 1. 0. 1.]\n",
      " [1. 0. 1. 0. 1. 0. 1. 0.]]\n"
     ]
    }
   ],
   "source": [
    "import numpy as np\n",
    "\n",
    "# 1: Array with values ranging from 10 to 49\n",
    "array_10_49 = np.arange(10, 50)\n",
    "print(\"Array with values ranging from 10 to 49:\\n\", array_10_49)\n",
    "\n",
    "# 2: 3x3 Matrix with values ranging from 0 to 8\n",
    "matrix_3x3 = np.arange(9).reshape(3, 3)\n",
    "print(\"\\n3x3 Matrix with values from 0 to 8:\\n\", matrix_3x3)\n",
    "\n",
    "# 3: 3x3 Identity Matrix\n",
    "identity_matrix = np.eye(3)\n",
    "print(\"\\n3x3 Identity Matrix:\\n\", identity_matrix)\n",
    "\n",
    "# 4: Random Array of size 30 and Mean\n",
    "random_array = np.random.random(30)\n",
    "mean_value = random_array.mean()\n",
    "print(\"\\nRandom Array of Size 30:\\n\", random_array)\n",
    "print(\"Mean of the Array:\", mean_value)\n",
    "\n",
    "# 5: 10x10 Random Array with Min and Max Values\n",
    "random_10x10 = np.random.random((10, 10))\n",
    "min_value = random_10x10.min()\n",
    "max_value = random_10x10.max()\n",
    "print(\"\\nRandom 10x10 Array:\\n\", random_10x10)\n",
    "print(\"Minimum Value:\", min_value)\n",
    "print(\"Maximum Value:\", max_value)\n",
    "\n",
    "# 6: Zero Array with 5th Element Replaced with 1\n",
    "zero_array = np.zeros(10)\n",
    "zero_array[4] = 1\n",
    "print(\"\\nZero Array with 5th Element Replaced with 1:\\n\", zero_array)\n",
    "\n",
    "# 7: Reverse Array\n",
    "arr = np.array([1, 2, 0, 0, 4, 0])\n",
    "reversed_arr = arr[::-1]\n",
    "print(\"\\nReversed Array:\\n\", reversed_arr)\n",
    "\n",
    "# 8: 2D Array with 1 on Border and 0 Inside\n",
    "border_array = np.ones((5, 5))\n",
    "border_array[1:-1, 1:-1] = 0\n",
    "print(\"\\n2D Array with 1 on Border and 0 Inside:\\n\", border_array)\n",
    "\n",
    "# 9: 8x8 Checkerboard Pattern\n",
    "checkerboard = np.zeros((8, 8))\n",
    "checkerboard[1::2, ::2] = 1\n",
    "checkerboard[::2, 1::2] = 1\n",
    "print(\"\\n8x8 Checkerboard Pattern:\\n\", checkerboard)\n"
   ]
  },
  {
   "cell_type": "markdown",
   "metadata": {},
   "source": [
    "Problem - 3: Array Operations:\n",
    "For the following arrays:\n",
    "x = np.array([[1,2],[3,5]]) and y = np.array([[5,6],[7,8]]);\n",
    "v = np.array([9,10]) and w = np.array([11,12]);\n",
    "Complete all the task using numpy:\n",
    "1. Add the two array.\n",
    "2. Subtract the two array.\n",
    "3. Multiply the array with any integers of your choice.\n",
    "4. Find the square of each element of the array.\n",
    "5. Find the dot product between: v(and)w ; x(and)v ; x(and)y.\n",
    "6. Concatenate x(and)y along row and Concatenate v(and)w along column.\n",
    "{Hint:try np.concatenate() or np.vstack() functions.\n",
    "7. Concatenate x(and)v; if you get an error, observe and explain why did you get the error?"
   ]
  },
  {
   "cell_type": "code",
   "execution_count": 13,
   "metadata": {},
   "outputs": [
    {
     "name": "stdout",
     "output_type": "stream",
     "text": [
      "Addition of x and y:\n",
      " [[ 6  8]\n",
      " [10 13]]\n",
      "\n",
      "Subtraction of x and y:\n",
      " [[-4 -4]\n",
      " [-4 -3]]\n",
      "\n",
      "Multiplying x by 2:\n",
      " [[ 2  4]\n",
      " [ 6 10]]\n",
      "\n",
      "Square of each element in x:\n",
      " [[ 1  4]\n",
      " [ 9 25]]\n",
      "\n",
      "Dot product of v and w: 219\n",
      "\n",
      "Dot product of x and v:\n",
      " [29 77]\n",
      "\n",
      "Dot product of x and y:\n",
      " [[19 22]\n",
      " [50 58]]\n",
      "\n",
      "Concatenation of x and y along the row:\n",
      " [[1 2 5 6]\n",
      " [3 5 7 8]]\n",
      "\n",
      "Concatenation of v and w along the column:\n",
      " [[ 9 11]\n",
      " [10 12]]\n",
      "\n",
      "Concatenation of v and w using np.vstack():\n",
      " [[ 9 10]\n",
      " [11 12]]\n",
      "\n",
      "Error while concatenating x and v: all the input arrays must have same number of dimensions, but the array at index 0 has 2 dimension(s) and the array at index 1 has 1 dimension(s)\n"
     ]
    }
   ],
   "source": [
    "import numpy as np\n",
    "\n",
    "# Given arrays\n",
    "x = np.array([[1, 2], [3, 5]])\n",
    "y = np.array([[5, 6], [7, 8]])\n",
    "v = np.array([9, 10])\n",
    "w = np.array([11, 12])\n",
    "\n",
    "# 1. Add the two arrays\n",
    "addition_result = x + y\n",
    "print(\"Addition of x and y:\\n\", addition_result)\n",
    "\n",
    "# 2. Subtract the two arrays\n",
    "subtraction_result = x - y\n",
    "print(\"\\nSubtraction of x and y:\\n\", subtraction_result)\n",
    "\n",
    "# 3. Multiply the array with any integer\n",
    "multiplication_result = x * 2\n",
    "print(\"\\nMultiplying x by 2:\\n\", multiplication_result)\n",
    "\n",
    "# 4. Square of each element\n",
    "square_result = np.square(x)\n",
    "print(\"\\nSquare of each element in x:\\n\", square_result)\n",
    "\n",
    "# 5. Dot product between v and w, x and v, x and y\n",
    "dot_v_w = np.dot(v, w)\n",
    "print(\"\\nDot product of v and w:\", dot_v_w)\n",
    "\n",
    "dot_x_v = np.dot(x, v)\n",
    "print(\"\\nDot product of x and v:\\n\", dot_x_v)\n",
    "\n",
    "dot_x_y = np.dot(x, y)\n",
    "print(\"\\nDot product of x and y:\\n\", dot_x_y)\n",
    "\n",
    "# 6. Concatenate x and y along the row, v and w along the column\n",
    "concat_x_y_row = np.concatenate((x, y), axis=1)\n",
    "print(\"\\nConcatenation of x and y along the row:\\n\", concat_x_y_row)\n",
    "\n",
    "concat_v_w_col = np.concatenate((v.reshape(-1, 1), w.reshape(-1, 1)), axis=1)\n",
    "print(\"\\nConcatenation of v and w along the column:\\n\", concat_v_w_col)\n",
    "\n",
    "v_w_vstack = np.vstack((v, w))\n",
    "print(\"\\nConcatenation of v and w using np.vstack():\\n\", v_w_vstack)\n",
    "\n",
    "# 7. Concatenate x and v (expect error)\n",
    "try:\n",
    "    concat_x_v = np.concatenate((x, v), axis=1)\n",
    "except Exception as e:\n",
    "    print(\"\\nError while concatenating x and v:\", e)\n"
   ]
  },
  {
   "cell_type": "markdown",
   "metadata": {},
   "source": [
    "Problem - 4: Matrix Operations:\n",
    "• For the following arrays:\n",
    "A = np.array([[3,4],[7,8]]) and B = np.array([[5,3],[2,1]]);\n",
    "Prove following with Numpy:\n",
    "1. Prove A.A−1 = I.\n",
    "2. Prove AB ̸= BA.\n",
    "3. Prove (AB)\n",
    "\n",
    "T = BTAT"
   ]
  },
  {
   "cell_type": "code",
   "execution_count": 15,
   "metadata": {},
   "outputs": [
    {
     "name": "stdout",
     "output_type": "stream",
     "text": [
      "A * A^-1:\n",
      " [[1. 0.]\n",
      " [0. 1.]]\n",
      "AB:\n",
      " [[23 13]\n",
      " [51 29]]\n",
      "BA:\n",
      " [[36 44]\n",
      " [13 16]]\n",
      "(AB)^T:\n",
      " [[23 51]\n",
      " [13 29]]\n",
      "B^T * A^T:\n",
      " [[23 51]\n",
      " [13 29]]\n"
     ]
    }
   ],
   "source": [
    "import numpy as np\n",
    "\n",
    "# Given matrices\n",
    "A = np.array([[3, 4], [7, 8]])\n",
    "B = np.array([[5, 3], [2, 1]])\n",
    "\n",
    "# 1. Prove A * A^-1 = I (Identity Matrix)\n",
    "A_inv = np.linalg.inv(A)\n",
    "identity_matrix = np.dot(A, A_inv)\n",
    "# Set a tolerance to round values close to zero\n",
    "identity_matrix = np.round(identity_matrix, decimals=6)\n",
    "print(\"A * A^-1:\\n\", identity_matrix)\n",
    "\n",
    "# 2. Prove AB != BA\n",
    "AB = np.dot(A, B)\n",
    "BA = np.dot(B, A)\n",
    "print(\"AB:\\n\", AB)\n",
    "print(\"BA:\\n\", BA)\n",
    "\n",
    "# 3. Prove (AB)^T = B^T * A^T\n",
    "AB_T = np.transpose(AB)\n",
    "B_T = np.transpose(B)\n",
    "A_T = np.transpose(A)\n",
    "B_T_A_T = np.dot(B_T, A_T)\n",
    "print(\"(AB)^T:\\n\", AB_T)\n",
    "print(\"B^T * A^T:\\n\", B_T_A_T)\n"
   ]
  },
  {
   "cell_type": "markdown",
   "metadata": {},
   "source": [
    "• Solve the following system of Linear equation using Inverse Methods.\n",
    "\n",
    "2x − 3y + z = −1\n",
    "x − y + 2z = −3\n",
    "3x + y − z = 9\n",
    "\n",
    "{Hint: First use Numpy array to represent the equation in Matrix form. Then Solve for: AX = B}"
   ]
  },
  {
   "cell_type": "code",
   "execution_count": 16,
   "metadata": {},
   "outputs": [
    {
     "name": "stdout",
     "output_type": "stream",
     "text": [
      "Solution (x, y, z): [ 2.  1. -2.]\n"
     ]
    }
   ],
   "source": [
    "import numpy as np\n",
    "\n",
    "# Coefficient matrix A\n",
    "A = np.array([[2, -3, 1], [1, -1, 2], [3, 1, -1]])\n",
    "\n",
    "# Constants vector B\n",
    "B = np.array([-1, -3, 9])\n",
    "\n",
    "# Calculate the inverse of A\n",
    "A_inv = np.linalg.inv(A)\n",
    "\n",
    "# Solve for X using the inverse method: X = A_inv * B\n",
    "X = np.dot(A_inv, B)\n",
    "\n",
    "print(\"Solution (x, y, z):\", X)\n"
   ]
  },
  {
   "cell_type": "markdown",
   "metadata": {},
   "source": [
    "• Now: solve the above equation using np.linalg.inv function.{Explore more about ”linalg” func-\n",
    "tion of Numpy}"
   ]
  },
  {
   "cell_type": "code",
   "execution_count": 17,
   "metadata": {},
   "outputs": [
    {
     "name": "stdout",
     "output_type": "stream",
     "text": [
      "Solution (x, y, z): [ 2.  1. -2.]\n"
     ]
    }
   ],
   "source": [
    "import numpy as np\n",
    "\n",
    "# Coefficient matrix A\n",
    "A = np.array([[2, -3, 1], [1, -1, 2], [3, 1, -1]])\n",
    "\n",
    "# Constants vector B\n",
    "B = np.array([-1, -3, 9])\n",
    "\n",
    "# Compute the inverse of matrix A using np.linalg.inv\n",
    "A_inv = np.linalg.inv(A)\n",
    "\n",
    "# Solve for X using the inverse of A: X = A_inv * B\n",
    "X = np.dot(A_inv, B)\n",
    "\n",
    "print(\"Solution (x, y, z):\", X)\n"
   ]
  },
  {
   "cell_type": "markdown",
   "metadata": {},
   "source": [
    "Using Python Lists, perform element-wise addition of two lists of size 1, 000, 000. Measure\n",
    "and Print the time taken for this operation."
   ]
  },
  {
   "cell_type": "code",
   "execution_count": 18,
   "metadata": {},
   "outputs": [
    {
     "name": "stdout",
     "output_type": "stream",
     "text": [
      "Time taken for element-wise addition: 0.09171795845031738 seconds\n"
     ]
    }
   ],
   "source": [
    "import time\n",
    "\n",
    "# Create two lists of size 1,000,000\n",
    "list1 = [i for i in range(1, 1000001)]\n",
    "list2 = [i for i in range(1000001, 2000001)]\n",
    "\n",
    "# Start measuring time\n",
    "start_time = time.time()\n",
    "\n",
    "# Perform element-wise addition of the two lists\n",
    "result = [list1[i] + list2[i] for i in range(len(list1))]\n",
    "\n",
    "# Measure the time taken for the operation\n",
    "end_time = time.time()\n",
    "\n",
    "# Print the time taken for the operation\n",
    "print(f\"Time taken for element-wise addition: {end_time - start_time} seconds\")\n"
   ]
  },
  {
   "cell_type": "markdown",
   "metadata": {},
   "source": [
    "Using Numpy Arrays, Repeat the calculation and measure and print the time taken for\n",
    "this operation."
   ]
  },
  {
   "cell_type": "code",
   "execution_count": 19,
   "metadata": {},
   "outputs": [
    {
     "name": "stdout",
     "output_type": "stream",
     "text": [
      "Time taken for element-wise addition with NumPy: 0.035826921463012695 seconds\n"
     ]
    }
   ],
   "source": [
    "import numpy as np\n",
    "import time\n",
    "\n",
    "# Create two NumPy arrays of size 1,000,000\n",
    "array1 = np.arange(1, 1000001)\n",
    "array2 = np.arange(1000001, 2000001)\n",
    "\n",
    "# Start measuring time\n",
    "start_time = time.time()\n",
    "\n",
    "# Perform element-wise addition of the two arrays\n",
    "result = array1 + array2\n",
    "\n",
    "# Measure the time taken for the operation\n",
    "end_time = time.time()\n",
    "\n",
    "# Print the time taken for the operation\n",
    "print(f\"Time taken for element-wise addition with NumPy: {end_time - start_time} seconds\")\n"
   ]
  },
  {
   "cell_type": "markdown",
   "metadata": {},
   "source": [
    "Element-wise Multiplication\n",
    "• Using Python Lists, perform element-wise multiplication of two lists of size 1, 000, 000.\n",
    "Measure and Print the time taken for this operation."
   ]
  },
  {
   "cell_type": "code",
   "execution_count": 20,
   "metadata": {},
   "outputs": [
    {
     "name": "stdout",
     "output_type": "stream",
     "text": [
      "Time taken for element-wise multiplication with Python lists: 0.10440826416015625 seconds\n"
     ]
    }
   ],
   "source": [
    "import time\n",
    "\n",
    "\n",
    "list1 = [i for i in range(1, 1000001)]\n",
    "list2 = [i for i in range(1000001, 2000001)]\n",
    "\n",
    "# Start measuring time\n",
    "start_time = time.time()\n",
    "\n",
    "# Perform element-wise multiplication of the two lists\n",
    "result = [list1[i] * list2[i] for i in range(len(list1))]\n",
    "\n",
    "# Measure the time taken for the operation\n",
    "end_time = time.time()\n",
    "\n",
    "# Print the time taken for the operation\n",
    "print(f\"Time taken for element-wise multiplication with Python lists: {end_time - start_time} seconds\")\n"
   ]
  },
  {
   "cell_type": "markdown",
   "metadata": {},
   "source": [
    "Using Numpy Arrays, Repeat the calculation and measure and print the time taken for\n",
    "this operation."
   ]
  },
  {
   "cell_type": "code",
   "execution_count": 21,
   "metadata": {},
   "outputs": [
    {
     "name": "stdout",
     "output_type": "stream",
     "text": [
      "Time taken for element-wise multiplication with NumPy: 0.023409128189086914 seconds\n"
     ]
    }
   ],
   "source": [
    "import numpy as np\n",
    "import time\n",
    "\n",
    "# Create two NumPy arrays of size 1,000,000\n",
    "array1 = np.arange(1, 1000001)\n",
    "array2 = np.arange(1000001, 2000001)\n",
    "\n",
    "# Start measuring time\n",
    "start_time = time.time()\n",
    "\n",
    "# Perform element-wise multiplication of the two arrays\n",
    "result = array1 * array2\n",
    "\n",
    "# Measure the time taken for the operation\n",
    "end_time = time.time()\n",
    "\n",
    "# Print the time taken for the operation\n",
    "print(f\"Time taken for element-wise multiplication with NumPy: {end_time - start_time} seconds\")\n"
   ]
  },
  {
   "cell_type": "markdown",
   "metadata": {},
   "source": [
    "Dot Product\n",
    "• Using Python Lists, compute the dot product of two lists of size 1, 000, 000. Measure and\n",
    "Print the time taken for this operation."
   ]
  },
  {
   "cell_type": "code",
   "execution_count": 22,
   "metadata": {},
   "outputs": [
    {
     "name": "stdout",
     "output_type": "stream",
     "text": [
      "Time taken for dot product with Python lists: 0.29549431800842285 seconds\n"
     ]
    }
   ],
   "source": [
    "import time\n",
    "\n",
    "# Create two lists of size 1,000,000\n",
    "list1 = [i for i in range(1, 1000001)]\n",
    "list2 = [i for i in range(1000001, 2000001)]\n",
    "\n",
    "# Start measuring time\n",
    "start_time = time.time()\n",
    "\n",
    "# Compute dot product of the two lists using list comprehension and sum\n",
    "dot_product = sum(list1[i] * list2[i] for i in range(len(list1)))\n",
    "\n",
    "# Measure the time taken for the operation\n",
    "end_time = time.time()\n",
    "\n",
    "# Print the time taken for the operation\n",
    "print(f\"Time taken for dot product with Python lists: {end_time - start_time} seconds\")\n"
   ]
  },
  {
   "cell_type": "markdown",
   "metadata": {},
   "source": [
    "Using Numpy Arrays, Repeat the calculation and measure and print the time taken for\n",
    "this operation."
   ]
  },
  {
   "cell_type": "code",
   "execution_count": 23,
   "metadata": {},
   "outputs": [
    {
     "name": "stdout",
     "output_type": "stream",
     "text": [
      "Dot product: 833334333333500000\n",
      "Time taken for dot product with NumPy: 0.002993345260620117 seconds\n"
     ]
    }
   ],
   "source": [
    "import numpy as np\n",
    "import time\n",
    "\n",
    "# Create two NumPy arrays of size 1,000,000\n",
    "array1 = np.arange(1, 1000001)\n",
    "array2 = np.arange(1000001, 2000001)\n",
    "\n",
    "# Start measuring time\n",
    "start_time = time.time()\n",
    "\n",
    "# Compute dot product of the two arrays using NumPy\n",
    "dot_product = np.dot(array1, array2)\n",
    "\n",
    "# Measure the time taken for the operation\n",
    "end_time = time.time()\n",
    "\n",
    "# Print the dot product and the time taken for the operation\n",
    "print(f\"Dot product: {dot_product}\")\n",
    "print(f\"Time taken for dot product with NumPy: {end_time - start_time} seconds\")\n"
   ]
  },
  {
   "cell_type": "markdown",
   "metadata": {},
   "source": [
    "Matrix Multiplication\n",
    "\n",
    "• Using Python lists, perform matrix multiplication of two matrices of size 1000x1000. Mea-\n",
    "sure and print the time taken for this operation."
   ]
  },
  {
   "cell_type": "code",
   "execution_count": 24,
   "metadata": {},
   "outputs": [
    {
     "name": "stdout",
     "output_type": "stream",
     "text": [
      "Time taken for matrix multiplication with Python lists: 134.6692316532135 seconds\n"
     ]
    }
   ],
   "source": [
    "import time\n",
    "\n",
    "# Initialize two 1000x1000 matrices\n",
    "matrix1 = [[i for i in range(1000)] for _ in range(1000)]  # Matrix 1 of size 1000x1000\n",
    "matrix2 = [[i for i in range(1000)] for _ in range(1000)]  # Matrix 2 of size 1000x1000\n",
    "\n",
    "# Start measuring time\n",
    "start_time = time.time()\n",
    "\n",
    "# Initialize an empty matrix to store the result\n",
    "result_matrix = [[0] * 1000 for _ in range(1000)]\n",
    "\n",
    "# Perform matrix multiplication\n",
    "for i in range(1000):\n",
    "    for j in range(1000):\n",
    "        result_matrix[i][j] = sum(matrix1[i][k] * matrix2[k][j] for k in range(1000))\n",
    "\n",
    "# Measure the time taken for the operation\n",
    "end_time = time.time()\n",
    "\n",
    "# Print the time taken for the operation\n",
    "print(f\"Time taken for matrix multiplication with Python lists: {end_time - start_time} seconds\")\n"
   ]
  },
  {
   "cell_type": "markdown",
   "metadata": {},
   "source": [
    "Using NumPy arrays, perform matrix multiplication of two matrices of size 1000x1000.\n",
    "Measure and print the time taken for this operation."
   ]
  },
  {
   "cell_type": "code",
   "execution_count": 25,
   "metadata": {},
   "outputs": [
    {
     "name": "stdout",
     "output_type": "stream",
     "text": [
      "Time taken for matrix multiplication: 0.026388168334960938 seconds\n"
     ]
    }
   ],
   "source": [
    "import numpy as np\n",
    "import time\n",
    "\n",
    "# Create two random 1000x1000 matrices\n",
    "matrix1 = np.random.rand(1000, 1000)\n",
    "matrix2 = np.random.rand(1000, 1000)\n",
    "\n",
    "# Measure time before multiplication\n",
    "start_time = time.time()\n",
    "\n",
    "# Perform matrix multiplication\n",
    "result = np.dot(matrix1, matrix2)\n",
    "\n",
    "# Measure time after multiplication\n",
    "end_time = time.time()\n",
    "\n",
    "# Print the time taken\n",
    "print(\"Time taken for matrix multiplication:\", end_time - start_time, \"seconds\")\n"
   ]
  }
 ],
 "metadata": {
  "kernelspec": {
   "display_name": "Python 3",
   "language": "python",
   "name": "python3"
  },
  "language_info": {
   "codemirror_mode": {
    "name": "ipython",
    "version": 3
   },
   "file_extension": ".py",
   "mimetype": "text/x-python",
   "name": "python",
   "nbconvert_exporter": "python",
   "pygments_lexer": "ipython3",
   "version": "3.13.2"
  }
 },
 "nbformat": 4,
 "nbformat_minor": 2
}
